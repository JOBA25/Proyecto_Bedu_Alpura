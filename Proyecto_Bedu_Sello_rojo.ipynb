{
 "cells": [
  {
   "cell_type": "markdown",
   "metadata": {},
   "source": [
    "# Sello rojo\n",
    "\n",
    "libreta de análisis de los datos pertenecientes a la base de datos de la compañia Sello rojo para el año de 2017  "
   ]
  },
  {
   "cell_type": "code",
   "execution_count": 68,
   "metadata": {},
   "outputs": [],
   "source": [
    "%matplotlib inline\n",
    "import mysql.connector\n",
    "import pandas as pd \n",
    "import numpy as np \n",
    "from gpcharts import figure\n",
    "import matplotlib.pyplot as plt"
   ]
  },
  {
   "cell_type": "code",
   "execution_count": 69,
   "metadata": {},
   "outputs": [
    {
     "name": "stdout",
     "output_type": "stream",
     "text": [
      "<mysql.connector.connection.MySQLConnection object at 0x000002D3E159B348>\n"
     ]
    }
   ],
   "source": [
    "#conección a la base de datos \n",
    "mydb = mysql.connector.connect(\n",
    "    host = \"localhost\",\n",
    "    user = \"root\",\n",
    "    auth_plugin='mysql_native_password',\n",
    "    passwd = \"toor\",\n",
    "    db = \"sello_rojo\"\n",
    "    )\n",
    "print(mydb)"
   ]
  },
  {
   "cell_type": "markdown",
   "metadata": {},
   "source": [
    "Con el siguiente pedazo de código podemos traer una vista que contiene toda la información de la base de datos, evidentemente es un proceso algo lento traer tal cantidad de información por lo que se opto mejor por crear las vistas dentro de la base y usarlas dentro de python para la graficación."
   ]
  },
  {
   "cell_type": "code",
   "execution_count": 70,
   "metadata": {},
   "outputs": [],
   "source": [
    "#cursor = mydb.cursor()\n",
    "#cursor.execute(\"SELECT * FROM dbfull\")\n",
    "#df = pd.DataFrame(cursor)\n",
    "#df.columns = [\"Fecha\",\"Cantidad_vendida\",\"IMP_venta_bruta\",\"ID_plaza\",\"Depositos\",\n",
    "#             \"Area\",\"Estado\",\"Zona\",\"Clave\",\"Clave_cliente\",\"Num_cliente\",\"Num_suc\",\n",
    "#             \"Razon_social\",\"Sucursal\",\"Cadena\",\"ID_producto\",\"sku\",\"Familia\",\n",
    "#             \"categoria_sop\"]\n",
    "#df[\"IMP_venta_bruta\"] = df[\"IMP_venta_bruta\"].astype(float)\n",
    "#df.dtypes"
   ]
  },
  {
   "cell_type": "markdown",
   "metadata": {},
   "source": [
    "Comenzamos a hacer uso de la conexión con la base  "
   ]
  },
  {
   "cell_type": "code",
   "execution_count": 71,
   "metadata": {},
   "outputs": [
    {
     "data": {
      "text/plain": [
       "<matplotlib.axes._subplots.AxesSubplot at 0x2d3e15a8248>"
      ]
     },
     "execution_count": 71,
     "metadata": {},
     "output_type": "execute_result"
    },
    {
     "data": {
      "image/png": "[encoded data removed]",
      "text/plain": [
       "<Figure size 432x288 with 1 Axes>"
      ]
     },
     "metadata": {
      "needs_background": "light"
     },
     "output_type": "display_data"
    }
   ],
   "source": [
    "cursor = mydb.cursor()\n",
    "cursor.execute(\"SELECT * FROM ventas_mes\")\n",
    "df = pd.DataFrame(cursor)\n",
    "df.columns = [\"ventas\",\"mes\"]\n",
    "df[\"ventas\"] = df[\"ventas\"].astype(float)\n",
    "#df.head\n",
    "df.plot(kind=\"bar\",x = \"mes\" ,title=\"ventas por mes\")"
   ]
  },
  {
   "cell_type": "code",
   "execution_count": 6,
   "metadata": {},
   "outputs": [
    {
     "data": {
      "text/html": [
       "\n",
       "<html>\n",
       "<head>\n",
       "    <script src=\"https://code.jquery.com/jquery-1.10.2.js\"></script>\n",
       "    <script type=\"text/javascript\">\n",
       "    $.getScript( \"https://www.gstatic.com/charts/loader.js\", function() {\n",
       "      if ((typeof google === 'undefined') || (typeof google.visualization === 'undefined')) \n",
       "      {\n",
       "         google.charts.load('current', {'packages':['corechart']});\n",
       "      }\n",
       "\n",
       "      google.charts.setOnLoadCallback(drawChart_Ventas_por_mes);\n",
       "    });\n",
       "    \n",
       "    function drawChart_Ventas_por_mes() {\n",
       "        var dataArr = [['meses del año 2017', 'data1'], [0, 23942035.29], [1, 22376522.86], [2, 26480097.18], [3, 25648401.59], [4, 26521763.12], [5, 26669062.68], [6, 29210758.98], [7, 29108225.52], [8, 27396853.38], [9, 29849645.82], [10, 33830267.48], [11, 35473719.62]];\n",
       "        var grTitle = 'Ventas por mes';\n",
       "        var height = 600;\n",
       "        var width = 1000;\n",
       "        var logScaleFlag = false;\n",
       "        var vAxisTitle = 'ventas';\n",
       "        var vAxisOpt;\n",
       "        if(logScaleFlag)\n",
       "        {\n",
       "            vAxisOpt = { title: vAxisTitle, logScale: true, format: 'scientific'};\n",
       "        }\n",
       "        else\n",
       "        {\n",
       "            vAxisOpt = { title: vAxisTitle };\n",
       "        }\n",
       "\n",
       "        var options = {\n",
       "            width: width,\n",
       "            height: height,\n",
       "            explorer: { actions: ['dragToZoom', 'rightClickToReset'], maxZoomIn: 0.01 },\n",
       "            curveType: 'function',\n",
       "            title: grTitle,\n",
       "            titleTextStyle: { fontSize: 18, bold: true },\n",
       "            hAxis: { title: dataArr[0][0] },\n",
       "            vAxis: vAxisOpt,\n",
       "            trendlines: { 0: {showR2: true, visibleInLegend: true} }\n",
       "        };\n",
       "\n",
       "        var data = new google.visualization.DataTable();\n",
       "        var csvOut = \"data:text/csv;charset=utf-8\";\n",
       "        // Add column headers\n",
       "        for (var j = 0; j < dataArr[0].length; j++)\n",
       "        {\n",
       "            data.addColumn('number',dataArr[0][j]);\n",
       "            csvOut += ',' + dataArr[0][j];\n",
       "        }\n",
       "        csvOut += '\\n';\n",
       "\n",
       "        // Add columns\n",
       "        for (var i = 1; i < dataArr.length; i++)\n",
       "        {\n",
       "            data.addRow(dataArr[i]);\n",
       "            csvOut += dataArr[i].join(\",\") + '\\n';\n",
       "        }\n",
       "\n",
       "        var chart = new google.visualization.ScatterChart(document.getElementById('chart_div_Ventas_por_mes'));\n",
       "\n",
       "        chart.draw(data, options);\n",
       "        document.getElementById('pic_div_Ventas_por_mes').innerHTML = '<a href=\"' + chart.getImageURI() + '\" download=\"'+grTitle+'.png\">Download Figure</a>'\n",
       "        document.getElementById('csvFileDl_Ventas_por_mes').innerHTML = '<a href=\"' + encodeURI(csvOut) + '\" download=\"'+grTitle+'.csv\">Download CSV</a>'\n",
       "    }\n",
       "    </script>\n",
       "</head>\n",
       "<body>\n",
       "    <div id=\"chart_div_Ventas_por_mes\"></div>\n",
       "    <div id=\"pic_div_Ventas_por_mes\"></div>\n",
       "    <div id=\"csvFileDl_Ventas_por_mes\"></div>\n",
       "</body>\n",
       "</html>\n"
      ],
      "text/plain": [
       "<IPython.core.display.HTML object>"
      ]
     },
     "metadata": {},
     "output_type": "display_data"
    }
   ],
   "source": [
    "#plt.figure(figsize=(7,7))\n",
    "#plt.scatter(df[\"mes\"], df[\"ventas\"],)\n",
    "\n",
    "gr = figure('Ventas por mes')\n",
    "gr.ylabel=\"ventas\"\n",
    "gr.xlabel=\"meses del año 2017\"\n",
    "(gr.scatter(df[\"ventas\"], trendline=True))"
   ]
  },
  {
   "cell_type": "markdown",
   "metadata": {},
   "source": [
    "### Como podemos ver en la gráfica anterior la tendencia de nuestras ventas es positiva.\n",
    "\n",
    "Pero sigamos viendo que más podemos descubrir"
   ]
  },
  {
   "cell_type": "code",
   "execution_count": null,
   "metadata": {},
   "outputs": [],
   "source": []
  }
 ],
 "metadata": {
  "kernelspec": {
   "display_name": "Python 3",
   "language": "python",
   "name": "python3"
  },
  "language_info": {
   "codemirror_mode": {
    "name": "ipython",
    "version": 3
   },
   "file_extension": ".py",
   "mimetype": "text/x-python",
   "name": "python",
   "nbconvert_exporter": "python",
   "pygments_lexer": "ipython3",
   "version": "3.7.4"
  }
 },
 "nbformat": 4,
 "nbformat_minor": 2
}
